{
 "cells": [
  {
   "cell_type": "code",
   "execution_count": 1,
   "id": "8e9dccfd-2104-4994-8abc-38c3e56016b9",
   "metadata": {},
   "outputs": [
    {
     "name": "stdout",
     "output_type": "stream",
     "text": [
      "h\n",
      "e\n",
      "l\n",
      "l\n",
      "o\n",
      ",\n",
      " \n",
      "w\n",
      "o\n",
      "r\n",
      "l\n",
      "d\n"
     ]
    }
   ],
   "source": [
    "for letter in \"hello, world\":\n",
    "    print(letter)"
   ]
  },
  {
   "cell_type": "markdown",
   "id": "e2abe6b4-7093-45c3-8403-9514ef7cd9d2",
   "metadata": {},
   "source": [
    "# Problem 1 "
   ]
  },
  {
   "cell_type": "code",
   "execution_count": 18,
   "id": "12c60936-107d-4b10-9bec-83b66ac9167e",
   "metadata": {},
   "outputs": [
    {
     "name": "stdout",
     "output_type": "stream",
     "text": [
      "Isn't anagram\n",
      "Is anagram\n"
     ]
    }
   ],
   "source": [
    "def is_anagram(word1, word2):\n",
    "    if(len(word1) != len(word2)):\n",
    "        return False\n",
    "    if sorted(word1) == sorted(word2):\n",
    "        return True\n",
    "    return False\n",
    "\n",
    "if is_anagrama(\"car\", \"xxxx\"): \n",
    "    print(\"Is anagram\")\n",
    "else:\n",
    "    print(\"Isn't anagram\")\n",
    "\n",
    "if is_anagrama(\"car\", \"arc\"): \n",
    "    print(\"Is anagram\")\n",
    "else:\n",
    "    print(\"Isn't anagram\")\n",
    "\n",
    "if is_anagrama(\"car\", \"are\"): \n",
    "    print(\"Is anagram\")\n",
    "else:\n",
    "    print(\"Isn't anagram\")"
   ]
  },
  {
   "cell_type": "code",
   "execution_count": null,
   "id": "749fee03-a406-4c6c-ae7b-672455fde1de",
   "metadata": {},
   "outputs": [],
   "source": []
  }
 ],
 "metadata": {
  "kernelspec": {
   "display_name": "Python 3 (ipykernel)",
   "language": "python",
   "name": "python3"
  },
  "language_info": {
   "codemirror_mode": {
    "name": "ipython",
    "version": 3
   },
   "file_extension": ".py",
   "mimetype": "text/x-python",
   "name": "python",
   "nbconvert_exporter": "python",
   "pygments_lexer": "ipython3",
   "version": "3.10.12"
  }
 },
 "nbformat": 4,
 "nbformat_minor": 5
}
